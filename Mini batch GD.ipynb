{
 "cells": [
  {
   "cell_type": "code",
   "execution_count": 1,
   "id": "28212e27",
   "metadata": {},
   "outputs": [],
   "source": [
    "from sklearn.datasets import load_diabetes\n",
    "from sklearn.linear_model import LinearRegression\n",
    "from sklearn.metrics import r2_score\n",
    "from sklearn.model_selection import train_test_split\n",
    "import numpy as np\n",
    "import time"
   ]
  },
  {
   "cell_type": "code",
   "execution_count": 2,
   "id": "c571a5ba",
   "metadata": {},
   "outputs": [],
   "source": [
    "x,y=load_diabetes(return_X_y=True)"
   ]
  },
  {
   "cell_type": "code",
   "execution_count": 3,
   "id": "be4895c5",
   "metadata": {},
   "outputs": [
    {
     "name": "stdout",
     "output_type": "stream",
     "text": [
      "(442, 10)\n"
     ]
    }
   ],
   "source": [
    "print(x.shape)"
   ]
  },
  {
   "cell_type": "code",
   "execution_count": 4,
   "id": "c3c6a655",
   "metadata": {},
   "outputs": [
    {
     "data": {
      "text/plain": [
       "(442,)"
      ]
     },
     "execution_count": 4,
     "metadata": {},
     "output_type": "execute_result"
    }
   ],
   "source": [
    "y.shape"
   ]
  },
  {
   "cell_type": "code",
   "execution_count": 5,
   "id": "98e35506",
   "metadata": {},
   "outputs": [],
   "source": [
    "x_train,x_test,y_train,y_test=train_test_split(x,y,test_size=0.2,random_state=2)"
   ]
  },
  {
   "cell_type": "code",
   "execution_count": 6,
   "id": "a4f05dcc",
   "metadata": {},
   "outputs": [
    {
     "data": {
      "text/plain": [
       "(353, 10)"
      ]
     },
     "execution_count": 6,
     "metadata": {},
     "output_type": "execute_result"
    }
   ],
   "source": [
    "x_train.shape"
   ]
  },
  {
   "cell_type": "code",
   "execution_count": 7,
   "id": "cac6c4e4",
   "metadata": {},
   "outputs": [],
   "source": [
    "reg=LinearRegression()"
   ]
  },
  {
   "cell_type": "code",
   "execution_count": 8,
   "id": "4930c913",
   "metadata": {},
   "outputs": [
    {
     "data": {
      "text/html": [
       "<style>#sk-container-id-1 {color: black;background-color: white;}#sk-container-id-1 pre{padding: 0;}#sk-container-id-1 div.sk-toggleable {background-color: white;}#sk-container-id-1 label.sk-toggleable__label {cursor: pointer;display: block;width: 100%;margin-bottom: 0;padding: 0.3em;box-sizing: border-box;text-align: center;}#sk-container-id-1 label.sk-toggleable__label-arrow:before {content: \"▸\";float: left;margin-right: 0.25em;color: #696969;}#sk-container-id-1 label.sk-toggleable__label-arrow:hover:before {color: black;}#sk-container-id-1 div.sk-estimator:hover label.sk-toggleable__label-arrow:before {color: black;}#sk-container-id-1 div.sk-toggleable__content {max-height: 0;max-width: 0;overflow: hidden;text-align: left;background-color: #f0f8ff;}#sk-container-id-1 div.sk-toggleable__content pre {margin: 0.2em;color: black;border-radius: 0.25em;background-color: #f0f8ff;}#sk-container-id-1 input.sk-toggleable__control:checked~div.sk-toggleable__content {max-height: 200px;max-width: 100%;overflow: auto;}#sk-container-id-1 input.sk-toggleable__control:checked~label.sk-toggleable__label-arrow:before {content: \"▾\";}#sk-container-id-1 div.sk-estimator input.sk-toggleable__control:checked~label.sk-toggleable__label {background-color: #d4ebff;}#sk-container-id-1 div.sk-label input.sk-toggleable__control:checked~label.sk-toggleable__label {background-color: #d4ebff;}#sk-container-id-1 input.sk-hidden--visually {border: 0;clip: rect(1px 1px 1px 1px);clip: rect(1px, 1px, 1px, 1px);height: 1px;margin: -1px;overflow: hidden;padding: 0;position: absolute;width: 1px;}#sk-container-id-1 div.sk-estimator {font-family: monospace;background-color: #f0f8ff;border: 1px dotted black;border-radius: 0.25em;box-sizing: border-box;margin-bottom: 0.5em;}#sk-container-id-1 div.sk-estimator:hover {background-color: #d4ebff;}#sk-container-id-1 div.sk-parallel-item::after {content: \"\";width: 100%;border-bottom: 1px solid gray;flex-grow: 1;}#sk-container-id-1 div.sk-label:hover label.sk-toggleable__label {background-color: #d4ebff;}#sk-container-id-1 div.sk-serial::before {content: \"\";position: absolute;border-left: 1px solid gray;box-sizing: border-box;top: 0;bottom: 0;left: 50%;z-index: 0;}#sk-container-id-1 div.sk-serial {display: flex;flex-direction: column;align-items: center;background-color: white;padding-right: 0.2em;padding-left: 0.2em;position: relative;}#sk-container-id-1 div.sk-item {position: relative;z-index: 1;}#sk-container-id-1 div.sk-parallel {display: flex;align-items: stretch;justify-content: center;background-color: white;position: relative;}#sk-container-id-1 div.sk-item::before, #sk-container-id-1 div.sk-parallel-item::before {content: \"\";position: absolute;border-left: 1px solid gray;box-sizing: border-box;top: 0;bottom: 0;left: 50%;z-index: -1;}#sk-container-id-1 div.sk-parallel-item {display: flex;flex-direction: column;z-index: 1;position: relative;background-color: white;}#sk-container-id-1 div.sk-parallel-item:first-child::after {align-self: flex-end;width: 50%;}#sk-container-id-1 div.sk-parallel-item:last-child::after {align-self: flex-start;width: 50%;}#sk-container-id-1 div.sk-parallel-item:only-child::after {width: 0;}#sk-container-id-1 div.sk-dashed-wrapped {border: 1px dashed gray;margin: 0 0.4em 0.5em 0.4em;box-sizing: border-box;padding-bottom: 0.4em;background-color: white;}#sk-container-id-1 div.sk-label label {font-family: monospace;font-weight: bold;display: inline-block;line-height: 1.2em;}#sk-container-id-1 div.sk-label-container {text-align: center;}#sk-container-id-1 div.sk-container {/* jupyter's `normalize.less` sets `[hidden] { display: none; }` but bootstrap.min.css set `[hidden] { display: none !important; }` so we also need the `!important` here to be able to override the default hidden behavior on the sphinx rendered scikit-learn.org. See: https://github.com/scikit-learn/scikit-learn/issues/21755 */display: inline-block !important;position: relative;}#sk-container-id-1 div.sk-text-repr-fallback {display: none;}</style><div id=\"sk-container-id-1\" class=\"sk-top-container\"><div class=\"sk-text-repr-fallback\"><pre>LinearRegression()</pre><b>In a Jupyter environment, please rerun this cell to show the HTML representation or trust the notebook. <br />On GitHub, the HTML representation is unable to render, please try loading this page with nbviewer.org.</b></div><div class=\"sk-container\" hidden><div class=\"sk-item\"><div class=\"sk-estimator sk-toggleable\"><input class=\"sk-toggleable__control sk-hidden--visually\" id=\"sk-estimator-id-1\" type=\"checkbox\" checked><label for=\"sk-estimator-id-1\" class=\"sk-toggleable__label sk-toggleable__label-arrow\">LinearRegression</label><div class=\"sk-toggleable__content\"><pre>LinearRegression()</pre></div></div></div></div></div>"
      ],
      "text/plain": [
       "LinearRegression()"
      ]
     },
     "execution_count": 8,
     "metadata": {},
     "output_type": "execute_result"
    }
   ],
   "source": [
    "reg.fit(x_train,y_train)"
   ]
  },
  {
   "cell_type": "code",
   "execution_count": 9,
   "id": "76dc1f4a",
   "metadata": {},
   "outputs": [
    {
     "name": "stdout",
     "output_type": "stream",
     "text": [
      "[  -9.15865318 -205.45432163  516.69374454  340.61999905 -895.5520019\n",
      "  561.22067904  153.89310954  126.73139688  861.12700152   52.42112238]\n",
      "151.88331005254167\n"
     ]
    }
   ],
   "source": [
    "print(reg.coef_)\n",
    "print(reg.intercept_)"
   ]
  },
  {
   "cell_type": "code",
   "execution_count": 10,
   "id": "4abaec63",
   "metadata": {},
   "outputs": [],
   "source": [
    "y_pred=reg.predict(x_test)"
   ]
  },
  {
   "cell_type": "code",
   "execution_count": 11,
   "id": "f9dc8667",
   "metadata": {},
   "outputs": [
    {
     "data": {
      "text/plain": [
       "0.4399338661568968"
      ]
     },
     "execution_count": 11,
     "metadata": {},
     "output_type": "execute_result"
    }
   ],
   "source": [
    "r2_score(y_test,y_pred)"
   ]
  },
  {
   "cell_type": "code",
   "execution_count": 15,
   "id": "5b1a3114",
   "metadata": {},
   "outputs": [],
   "source": [
    "class MBGDregressor:\n",
    "    \n",
    "    def __init__(self,batch_size,learning_rate=0.01,epochs=100):\n",
    "        self.intercept_=None\n",
    "        self.coef_=None\n",
    "        self.lr=learning_rate\n",
    "        self.epochs=epochs\n",
    "        self.batch_size=batch_size\n",
    "    \n",
    "    def fit(self,x_train,y_train):\n",
    "        #init my coefficients\n",
    "        self.intercept_=0\n",
    "        self.coef_=np.ones(x_train.shape[1])\n",
    "        \n",
    "        for i in range(self.epochs):\n",
    "            for j in range(int(x_train.shape[0]/self.batch_size)):\n",
    "                idx=random.sample(range(x_train.shape[0]),self.batch_size)\n",
    "                \n",
    "                y_hat= np.dot(x_train[idx],self.coef_)+self.intercept_\n",
    "                \n",
    "                intercept_der= -2*np.mean(y_train[idx]-y_hat)\n",
    "                \n",
    "                self.intercept_=self.intercept_-(self.lr*intercept_der)\n",
    "                \n",
    "                coef_der= -2 * np.dot((y_train[idx]-y_hat),x_train[idx])\n",
    "                self.coef_=self.coef_-(self.lr*coef_der)\n",
    "        \n",
    "        print(self.intercept_,self.coef_)\n",
    "    \n",
    "    def predict(self,x_test):\n",
    "        return np.dot(x_test,self.coef_) +self.intercept_"
   ]
  },
  {
   "cell_type": "code",
   "execution_count": 16,
   "id": "b10171f5",
   "metadata": {},
   "outputs": [
    {
     "data": {
      "text/plain": [
       "[32, 55, 13, 52, 20, 41, 96, 81, 79, 24]"
      ]
     },
     "execution_count": 16,
     "metadata": {},
     "output_type": "execute_result"
    }
   ],
   "source": [
    "import random\n",
    "random.sample(range(1,100),10)"
   ]
  },
  {
   "cell_type": "code",
   "execution_count": 17,
   "id": "4fb1e2cc",
   "metadata": {},
   "outputs": [
    {
     "data": {
      "text/plain": [
       "array([[ 0.02717829, -0.04464164, -0.00728377, -0.05042748,  0.0754844 ,\n",
       "         0.05661859,  0.03391355, -0.00259226,  0.04344397,  0.01549073],\n",
       "       [-0.07090025, -0.04464164, -0.00405033, -0.04009893, -0.06623874,\n",
       "        -0.07866155,  0.05232174, -0.0763945 , -0.05140387, -0.03421455],\n",
       "       [ 0.00538306,  0.05068012,  0.03043966,  0.0838437 , -0.03734373,\n",
       "        -0.0473467 ,  0.01550536, -0.03949338,  0.0086406 ,  0.01549073],\n",
       "       [ 0.07076875,  0.05068012,  0.01211685,  0.0563009 ,  0.03420581,\n",
       "         0.04941617, -0.03971921,  0.03430886,  0.02736405, -0.0010777 ],\n",
       "       [-0.00914709, -0.04464164, -0.06225218, -0.07452744, -0.02358421,\n",
       "        -0.01321352,  0.00446045, -0.03949338, -0.03581619, -0.04664087],\n",
       "       [-0.00188202,  0.05068012, -0.02452876,  0.05285804,  0.02732605,\n",
       "         0.03000097,  0.03023191, -0.00259226, -0.02139531,  0.03620126],\n",
       "       [-0.05637009, -0.04464164,  0.09295276, -0.01944183,  0.01494247,\n",
       "         0.02342485, -0.02867429,  0.02545259,  0.02606052,  0.04034337],\n",
       "       [-0.07816532, -0.04464164, -0.01698407, -0.01255612, -0.00019301,\n",
       "        -0.01352667,  0.07072993, -0.03949338, -0.04117617, -0.09220405],\n",
       "       [ 0.02354575,  0.05068012, -0.0374625 , -0.04698463, -0.0910059 ,\n",
       "        -0.07553006, -0.03235593, -0.03949338, -0.03074792, -0.01350402],\n",
       "       [ 0.04897352,  0.05068012, -0.03099563, -0.04929134,  0.0493413 ,\n",
       "        -0.00413221,  0.13331777, -0.05351581,  0.02131129,  0.01963284]])"
      ]
     },
     "execution_count": 17,
     "metadata": {},
     "output_type": "execute_result"
    }
   ],
   "source": [
    "x_train[[53, 89, 90, 16, 59, 41, 80, 43, 79, 69]]"
   ]
  },
  {
   "cell_type": "code",
   "execution_count": 18,
   "id": "240b435d",
   "metadata": {},
   "outputs": [],
   "source": [
    "mbgd=MBGDregressor(batch_size=int(x_train.shape[0]/10),learning_rate=0.01,epochs=50)"
   ]
  },
  {
   "cell_type": "code",
   "execution_count": 19,
   "id": "5697c813",
   "metadata": {},
   "outputs": [
    {
     "name": "stdout",
     "output_type": "stream",
     "text": [
      "152.36752534701964 [  52.2313776   -69.74481486  357.87117268  247.26420497   17.42599861\n",
      "  -26.32147475 -170.49412055  118.76698445  316.01945695  131.17350483]\n"
     ]
    }
   ],
   "source": [
    "mbgd.fit(x_train,y_train)"
   ]
  },
  {
   "cell_type": "code",
   "execution_count": 20,
   "id": "2c1cfba0",
   "metadata": {},
   "outputs": [],
   "source": [
    "y_pred=mbgd.predict(x_test)"
   ]
  },
  {
   "cell_type": "code",
   "execution_count": 21,
   "id": "1b9d7c11",
   "metadata": {},
   "outputs": [
    {
     "data": {
      "text/plain": [
       "0.434914019982797"
      ]
     },
     "execution_count": 21,
     "metadata": {},
     "output_type": "execute_result"
    }
   ],
   "source": [
    "r2_score(y_test,y_pred)"
   ]
  },
  {
   "cell_type": "code",
   "execution_count": 22,
   "id": "d4352b39",
   "metadata": {},
   "outputs": [],
   "source": [
    "from sklearn.linear_model import SGDRegressor"
   ]
  },
  {
   "cell_type": "code",
   "execution_count": 29,
   "id": "637e7e69",
   "metadata": {},
   "outputs": [],
   "source": [
    "reg=SGDRegressor(learning_rate='constant',eta0=0.1)"
   ]
  },
  {
   "cell_type": "code",
   "execution_count": 30,
   "id": "f3acd441",
   "metadata": {},
   "outputs": [],
   "source": [
    "batch_size=35\n",
    "for i in range(100):\n",
    "    idx=random.sample(range(x_train.shape[0]),batch_size)\n",
    "    reg.partial_fit(x_train[idx],y_train[idx]) #which will perfom the iteration only once and through loop we perform it 100 times"
   ]
  },
  {
   "cell_type": "code",
   "execution_count": 31,
   "id": "ede3a941",
   "metadata": {},
   "outputs": [
    {
     "data": {
      "text/plain": [
       "array([  62.76824655,  -75.13837757,  339.2208352 ,  249.16772217,\n",
       "          9.55107262,  -30.0430826 , -171.50209266,  124.42249067,\n",
       "        304.18224548,  113.45106136])"
      ]
     },
     "execution_count": 31,
     "metadata": {},
     "output_type": "execute_result"
    }
   ],
   "source": [
    "reg.coef_"
   ]
  },
  {
   "cell_type": "code",
   "execution_count": 32,
   "id": "11d35a9a",
   "metadata": {},
   "outputs": [
    {
     "data": {
      "text/plain": [
       "array([126.31319665])"
      ]
     },
     "execution_count": 32,
     "metadata": {},
     "output_type": "execute_result"
    }
   ],
   "source": [
    "reg.intercept_\n"
   ]
  },
  {
   "cell_type": "code",
   "execution_count": 33,
   "id": "74edaa86",
   "metadata": {},
   "outputs": [],
   "source": [
    "y_pred=reg.predict(x_test)"
   ]
  },
  {
   "cell_type": "code",
   "execution_count": 34,
   "id": "bbd70b82",
   "metadata": {},
   "outputs": [
    {
     "data": {
      "text/plain": [
       "0.3078417902854934"
      ]
     },
     "execution_count": 34,
     "metadata": {},
     "output_type": "execute_result"
    }
   ],
   "source": [
    "r2_score(y_test,y_pred)"
   ]
  },
  {
   "cell_type": "code",
   "execution_count": null,
   "id": "0ce10d38",
   "metadata": {},
   "outputs": [],
   "source": []
  }
 ],
 "metadata": {
  "kernelspec": {
   "display_name": "Python 3 (ipykernel)",
   "language": "python",
   "name": "python3"
  },
  "language_info": {
   "codemirror_mode": {
    "name": "ipython",
    "version": 3
   },
   "file_extension": ".py",
   "mimetype": "text/x-python",
   "name": "python",
   "nbconvert_exporter": "python",
   "pygments_lexer": "ipython3",
   "version": "3.10.9"
  }
 },
 "nbformat": 4,
 "nbformat_minor": 5
}
