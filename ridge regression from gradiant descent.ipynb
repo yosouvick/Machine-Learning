{
 "cells": [
  {
   "cell_type": "code",
   "execution_count": 1,
   "id": "39a750d6",
   "metadata": {},
   "outputs": [],
   "source": [
    "from sklearn.datasets import load_diabetes\n",
    "from sklearn.metrics import r2_score\n",
    "import numpy as np\n"
   ]
  },
  {
   "cell_type": "code",
   "execution_count": 2,
   "id": "f012b2ee",
   "metadata": {},
   "outputs": [],
   "source": [
    "x,y=load_diabetes(return_X_y=True)\n"
   ]
  },
  {
   "cell_type": "code",
   "execution_count": 3,
   "id": "69a08692",
   "metadata": {},
   "outputs": [],
   "source": [
    "from sklearn.model_selection import train_test_split\n"
   ]
  },
  {
   "cell_type": "code",
   "execution_count": 4,
   "id": "0102d320",
   "metadata": {},
   "outputs": [],
   "source": [
    "x_train,x_test,y_train,y_test=train_test_split(x,y,test_size=0.2,random_state=4)"
   ]
  },
  {
   "cell_type": "code",
   "execution_count": 5,
   "id": "77be0a38",
   "metadata": {},
   "outputs": [],
   "source": [
    "from sklearn.linear_model import SGDRegressor"
   ]
  },
  {
   "cell_type": "code",
   "execution_count": 11,
   "id": "5d6a7218",
   "metadata": {},
   "outputs": [],
   "source": [
    "reg=SGDRegressor(penalty='l2',max_iter=500,eta0=0.1,learning_rate='constant',alpha=0.001)\n"
   ]
  },
  {
   "cell_type": "code",
   "execution_count": 12,
   "id": "c8826617",
   "metadata": {},
   "outputs": [
    {
     "data": {
      "text/html": [
       "<style>#sk-container-id-2 {color: black;background-color: white;}#sk-container-id-2 pre{padding: 0;}#sk-container-id-2 div.sk-toggleable {background-color: white;}#sk-container-id-2 label.sk-toggleable__label {cursor: pointer;display: block;width: 100%;margin-bottom: 0;padding: 0.3em;box-sizing: border-box;text-align: center;}#sk-container-id-2 label.sk-toggleable__label-arrow:before {content: \"▸\";float: left;margin-right: 0.25em;color: #696969;}#sk-container-id-2 label.sk-toggleable__label-arrow:hover:before {color: black;}#sk-container-id-2 div.sk-estimator:hover label.sk-toggleable__label-arrow:before {color: black;}#sk-container-id-2 div.sk-toggleable__content {max-height: 0;max-width: 0;overflow: hidden;text-align: left;background-color: #f0f8ff;}#sk-container-id-2 div.sk-toggleable__content pre {margin: 0.2em;color: black;border-radius: 0.25em;background-color: #f0f8ff;}#sk-container-id-2 input.sk-toggleable__control:checked~div.sk-toggleable__content {max-height: 200px;max-width: 100%;overflow: auto;}#sk-container-id-2 input.sk-toggleable__control:checked~label.sk-toggleable__label-arrow:before {content: \"▾\";}#sk-container-id-2 div.sk-estimator input.sk-toggleable__control:checked~label.sk-toggleable__label {background-color: #d4ebff;}#sk-container-id-2 div.sk-label input.sk-toggleable__control:checked~label.sk-toggleable__label {background-color: #d4ebff;}#sk-container-id-2 input.sk-hidden--visually {border: 0;clip: rect(1px 1px 1px 1px);clip: rect(1px, 1px, 1px, 1px);height: 1px;margin: -1px;overflow: hidden;padding: 0;position: absolute;width: 1px;}#sk-container-id-2 div.sk-estimator {font-family: monospace;background-color: #f0f8ff;border: 1px dotted black;border-radius: 0.25em;box-sizing: border-box;margin-bottom: 0.5em;}#sk-container-id-2 div.sk-estimator:hover {background-color: #d4ebff;}#sk-container-id-2 div.sk-parallel-item::after {content: \"\";width: 100%;border-bottom: 1px solid gray;flex-grow: 1;}#sk-container-id-2 div.sk-label:hover label.sk-toggleable__label {background-color: #d4ebff;}#sk-container-id-2 div.sk-serial::before {content: \"\";position: absolute;border-left: 1px solid gray;box-sizing: border-box;top: 0;bottom: 0;left: 50%;z-index: 0;}#sk-container-id-2 div.sk-serial {display: flex;flex-direction: column;align-items: center;background-color: white;padding-right: 0.2em;padding-left: 0.2em;position: relative;}#sk-container-id-2 div.sk-item {position: relative;z-index: 1;}#sk-container-id-2 div.sk-parallel {display: flex;align-items: stretch;justify-content: center;background-color: white;position: relative;}#sk-container-id-2 div.sk-item::before, #sk-container-id-2 div.sk-parallel-item::before {content: \"\";position: absolute;border-left: 1px solid gray;box-sizing: border-box;top: 0;bottom: 0;left: 50%;z-index: -1;}#sk-container-id-2 div.sk-parallel-item {display: flex;flex-direction: column;z-index: 1;position: relative;background-color: white;}#sk-container-id-2 div.sk-parallel-item:first-child::after {align-self: flex-end;width: 50%;}#sk-container-id-2 div.sk-parallel-item:last-child::after {align-self: flex-start;width: 50%;}#sk-container-id-2 div.sk-parallel-item:only-child::after {width: 0;}#sk-container-id-2 div.sk-dashed-wrapped {border: 1px dashed gray;margin: 0 0.4em 0.5em 0.4em;box-sizing: border-box;padding-bottom: 0.4em;background-color: white;}#sk-container-id-2 div.sk-label label {font-family: monospace;font-weight: bold;display: inline-block;line-height: 1.2em;}#sk-container-id-2 div.sk-label-container {text-align: center;}#sk-container-id-2 div.sk-container {/* jupyter's `normalize.less` sets `[hidden] { display: none; }` but bootstrap.min.css set `[hidden] { display: none !important; }` so we also need the `!important` here to be able to override the default hidden behavior on the sphinx rendered scikit-learn.org. See: https://github.com/scikit-learn/scikit-learn/issues/21755 */display: inline-block !important;position: relative;}#sk-container-id-2 div.sk-text-repr-fallback {display: none;}</style><div id=\"sk-container-id-2\" class=\"sk-top-container\"><div class=\"sk-text-repr-fallback\"><pre>SGDRegressor(alpha=0.001, eta0=0.1, learning_rate=&#x27;constant&#x27;, max_iter=500)</pre><b>In a Jupyter environment, please rerun this cell to show the HTML representation or trust the notebook. <br />On GitHub, the HTML representation is unable to render, please try loading this page with nbviewer.org.</b></div><div class=\"sk-container\" hidden><div class=\"sk-item\"><div class=\"sk-estimator sk-toggleable\"><input class=\"sk-toggleable__control sk-hidden--visually\" id=\"sk-estimator-id-2\" type=\"checkbox\" checked><label for=\"sk-estimator-id-2\" class=\"sk-toggleable__label sk-toggleable__label-arrow\">SGDRegressor</label><div class=\"sk-toggleable__content\"><pre>SGDRegressor(alpha=0.001, eta0=0.1, learning_rate=&#x27;constant&#x27;, max_iter=500)</pre></div></div></div></div></div>"
      ],
      "text/plain": [
       "SGDRegressor(alpha=0.001, eta0=0.1, learning_rate='constant', max_iter=500)"
      ]
     },
     "execution_count": 12,
     "metadata": {},
     "output_type": "execute_result"
    }
   ],
   "source": [
    "reg.fit(x_train,y_train)"
   ]
  },
  {
   "cell_type": "code",
   "execution_count": 13,
   "id": "d4f2cdfa",
   "metadata": {},
   "outputs": [],
   "source": [
    "y_pred=reg.predict(x_test)"
   ]
  },
  {
   "cell_type": "code",
   "execution_count": 14,
   "id": "8ff76c83",
   "metadata": {},
   "outputs": [
    {
     "data": {
      "text/plain": [
       "0.4101887149322083"
      ]
     },
     "execution_count": 14,
     "metadata": {},
     "output_type": "execute_result"
    }
   ],
   "source": [
    "r2_score(y_test,y_pred)"
   ]
  },
  {
   "cell_type": "code",
   "execution_count": 15,
   "id": "665b70a6",
   "metadata": {},
   "outputs": [
    {
     "name": "stdout",
     "output_type": "stream",
     "text": [
      "[  50.23389356 -136.58875316  351.37823073  257.88933077    4.16724939\n",
      "  -48.94960968 -165.40083864  138.11501151  318.61332334  107.57162564]\n",
      "[140.39805301]\n"
     ]
    }
   ],
   "source": [
    "print(reg.coef_)\n",
    "print(reg.intercept_)"
   ]
  },
  {
   "cell_type": "code",
   "execution_count": 17,
   "id": "d8658ac8",
   "metadata": {},
   "outputs": [],
   "source": [
    "from sklearn.linear_model import Ridge\n",
    "rig=Ridge(alpha=0.001,max_iter=500,solver='sparse_cg') #this solver use gradiant descent internally"
   ]
  },
  {
   "cell_type": "code",
   "execution_count": 20,
   "id": "0fea342f",
   "metadata": {},
   "outputs": [
    {
     "name": "stdout",
     "output_type": "stream",
     "text": [
      "0.4625010162060629\n",
      "[  34.52192993 -290.84083684  482.40181978  368.06787216 -852.44872489\n",
      "  501.59161022  180.11115187  270.76334868  759.73535195   37.49136104]\n",
      "151.10198519001634\n"
     ]
    }
   ],
   "source": [
    "rig.fit(x_train,y_train)\n",
    "y_pred=rig.predict(x_test)\n",
    "print(r2_score(y_test,y_pred))\n",
    "print(rig.coef_)\n",
    "print(rig.intercept_)"
   ]
  },
  {
   "cell_type": "code",
   "execution_count": 21,
   "id": "c3acb5c4",
   "metadata": {},
   "outputs": [],
   "source": [
    "class MeraRidge:\n",
    "    \n",
    "    def __init__(self,epochs,leaning_rate,alpha):\n",
    "        self.epochs=epochs\n",
    "        self.lr=leaning_rate\n",
    "        self.alpha=alpha\n",
    "        self.coef_=None\n",
    "        self.intercept_=None\n",
    "        \n",
    "    def fit(self,x_train,y_train):\n",
    "        self.coef_=np.ones(x_train.shape[1])\n",
    "        self.intercept_=0\n",
    "        theta=np.insert(self.coef_,0,self.intercept_)\n",
    "        x_train=np.insert(x_train,0,1,axis=1)\n",
    "        \n",
    "        for i in range(self.epochs):\n",
    "            theta_der=np.dot(x_train.T,x_train).dot(theta)-np.dot(x_train.T,y_train)+self.alpha*theta\n",
    "            theta=theta-self.lr*theta_der\n",
    "            \n",
    "        \n",
    "        self.coef_=theta[1:]\n",
    "        self.intercept_=theta[0]\n",
    "    \n",
    "    def predict(self,x_test):\n",
    "        return np.dot(x_test,self.coef_)+self.intercept_"
   ]
  },
  {
   "cell_type": "code",
   "execution_count": 22,
   "id": "77eae0c3",
   "metadata": {},
   "outputs": [],
   "source": [
    "rig=MeraRidge(epochs=500,leaning_rate=0.005,alpha=0.001)"
   ]
  },
  {
   "cell_type": "code",
   "execution_count": 23,
   "id": "b874bd0c",
   "metadata": {},
   "outputs": [
    {
     "name": "stdout",
     "output_type": "stream",
     "text": [
      "r2_score: 0.47380182802609105\n",
      "[  46.65050914 -221.3750037   452.12080647  325.54248128  -29.09464178\n",
      "  -96.47517735 -190.90017011  146.32900372  400.80267299   95.09048094]\n",
      "150.86975316713463\n"
     ]
    }
   ],
   "source": [
    "rig.fit(x_train,y_train)\n",
    "y_pred=rig.predict(x_test)\n",
    "print('r2_score:',r2_score(y_test,y_pred))\n",
    "print(rig.coef_)\n",
    "print(rig.intercept_)"
   ]
  },
  {
   "cell_type": "code",
   "execution_count": null,
   "id": "7ab00415",
   "metadata": {},
   "outputs": [],
   "source": []
  }
 ],
 "metadata": {
  "kernelspec": {
   "display_name": "Python 3 (ipykernel)",
   "language": "python",
   "name": "python3"
  },
  "language_info": {
   "codemirror_mode": {
    "name": "ipython",
    "version": 3
   },
   "file_extension": ".py",
   "mimetype": "text/x-python",
   "name": "python",
   "nbconvert_exporter": "python",
   "pygments_lexer": "ipython3",
   "version": "3.10.9"
  }
 },
 "nbformat": 4,
 "nbformat_minor": 5
}
