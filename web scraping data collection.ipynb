{
 "cells": [
  {
   "cell_type": "code",
   "execution_count": 1,
   "id": "b4fcedb2",
   "metadata": {},
   "outputs": [],
   "source": [
    "import pandas as pd\n",
    "import requests\n",
    "from bs4 import BeautifulSoup"
   ]
  },
  {
   "cell_type": "markdown",
   "id": "9f5ca266",
   "metadata": {},
   "source": [
    "# If the response in 403"
   ]
  },
  {
   "cell_type": "code",
   "execution_count": 2,
   "id": "a50ba840",
   "metadata": {},
   "outputs": [],
   "source": [
    "headers={'User-Agent':'Mozilla/5.0 (Windows NT 6.3; Win 64 ; x64) Apple WeKit /537.36(KHTML , like Gecko) Chrome/112.0.5615.87 Safari/537.36'}"
   ]
  },
  {
   "cell_type": "code",
   "execution_count": 3,
   "id": "55526d7f",
   "metadata": {},
   "outputs": [],
   "source": [
    "\n",
    "webpage=requests.get('https://www.ambitionbox.com/list-of-companies?page=1',headers=headers).text #the website thinks the bot pull the request"
   ]
  },
  {
   "cell_type": "code",
   "execution_count": 4,
   "id": "2d71f2a6",
   "metadata": {},
   "outputs": [],
   "source": [
    "#through this i fetch the html code of that page"
   ]
  },
  {
   "cell_type": "code",
   "execution_count": 5,
   "id": "dd649243",
   "metadata": {},
   "outputs": [],
   "source": [
    "soup=BeautifulSoup(webpage,'lxml') #we create a object of BeautifulSoup class"
   ]
  },
  {
   "cell_type": "code",
   "execution_count": 6,
   "id": "03e4ca0a",
   "metadata": {},
   "outputs": [],
   "source": [
    "# print(soup.prettify())"
   ]
  },
  {
   "cell_type": "code",
   "execution_count": 7,
   "id": "ad1ebf00",
   "metadata": {},
   "outputs": [],
   "source": [
    "# soup.find_all('h1')[0].text #-->which extract the list of the companies\n",
    "#soup.find_all('h1')-->give me a list,by typing the [0] we get the first element of the list,then we extact the text by .text method"
   ]
  },
  {
   "cell_type": "code",
   "execution_count": 8,
   "id": "048bb3c9",
   "metadata": {},
   "outputs": [],
   "source": [
    "# for i in soup.find_all('h2'):\n",
    "#     print(i.text.strip())   ---> .strip() method is use for remove the /n"
   ]
  },
  {
   "cell_type": "code",
   "execution_count": null,
   "id": "442f563d",
   "metadata": {},
   "outputs": [],
   "source": [
    "#In the above case we go trough all h2 tags at a single time\n",
    "#now we break the webpage into 30 divs and extract the information from them one by one"
   ]
  },
  {
   "cell_type": "code",
   "execution_count": 11,
   "id": "46fe8093",
   "metadata": {},
   "outputs": [
    {
     "ename": "SyntaxError",
     "evalue": "invalid syntax (1128559841.py, line 1)",
     "output_type": "error",
     "traceback": [
      "\u001b[1;36m  Cell \u001b[1;32mIn[11], line 1\u001b[1;36m\u001b[0m\n\u001b[1;33m    company=soup.find_all('div',class='company-content-wrapper')\u001b[0m\n\u001b[1;37m                                ^\u001b[0m\n\u001b[1;31mSyntaxError\u001b[0m\u001b[1;31m:\u001b[0m invalid syntax\n"
     ]
    }
   ],
   "source": [
    "# company=soup.find_all('div',class='company-content-wrapper')"
   ]
  },
  {
   "cell_type": "code",
   "execution_count": 12,
   "id": "8791e426",
   "metadata": {},
   "outputs": [
    {
     "data": {
      "text/plain": [
       "0"
      ]
     },
     "execution_count": 12,
     "metadata": {},
     "output_type": "execute_result"
    }
   ],
   "source": [
    "# len(company)"
   ]
  },
  {
   "cell_type": "code",
   "execution_count": 13,
   "id": "72808ffc",
   "metadata": {},
   "outputs": [],
   "source": [
    "# name=[]\n",
    "# rating=[]\n",
    "# reviews=[]\n",
    "# ctype=[]\n",
    "# hq=[]\n",
    "# old=[]\n",
    "# employees=[]\n",
    "# for i in company:\n",
    "#     name.append(i.find('h2').text.strip())\n",
    "#     rating.append(i.find('p',class='rating').text.strip())\n",
    "#     reviews.append(i.find('a',class='review-count').text.strip())\n",
    "#     ctype.append(i.find_all('p',class='infoEntity')[0].text.strip())\n",
    "#     hq.append(i.find_all('p',class='infoEntity')[1].text.strip())\n",
    "#     old.append(i.find_all('p',class='infoEntity')[2].text.strip())\n",
    "#     employees.append(i.find_all('p',class='infoEntity')[3].text.strip())\n",
    "# d={'name':name,'rating':rating,'type':ctype,'hq':hq,'old':old,'employees':employees}\n",
    "# df=pd.DataFrame(d)\n",
    "# df"
   ]
  },
  {
   "cell_type": "code",
   "execution_count": 14,
   "id": "dd0b3405",
   "metadata": {},
   "outputs": [],
   "source": [
    "#this is for one page..now create dataframe for multiple page"
   ]
  },
  {
   "cell_type": "code",
   "execution_count": 15,
   "id": "2c024282",
   "metadata": {},
   "outputs": [],
   "source": [
    "final=pd.DataFrame()"
   ]
  },
  {
   "cell_type": "code",
   "execution_count": 16,
   "id": "6a8071e8",
   "metadata": {},
   "outputs": [],
   "source": [
    "# for j in range(1,1001):\n",
    "#     webpage=requests.get('https://www.ambitionbox.com/list-of-companies?page=1',headers=headers).text #the website thinks the bot pull the request\n",
    "#     soup=BeautifulSoup(webpage,'lxml')\n",
    "#     company=soup.find_all('div',class='company-content-wrapper')\n",
    "#     name=[]\n",
    "#     rating=[]\n",
    "#     reviews=[]\n",
    "#     ctype=[]\n",
    "#     hq=[]\n",
    "#     old=[]\n",
    "#     employees=[]\n",
    "#     for i in company:\n",
    "#         name.append(i.find('h2').text.strip())\n",
    "#         rating.append(i.find('p',class='rating').text.strip())\n",
    "#         reviews.append(i.find('a',class='review-count').text.strip())\n",
    "#         ctype.append(i.find_all('p',class='infoEntity')[0].text.strip())\n",
    "#         hq.append(i.find_all('p',class='infoEntity')[1].text.strip())\n",
    "#         old.append(i.find_all('p',class='infoEntity')[2].text.strip())\n",
    "#         employees.append(i.find_all('p',class='infoEntity')[3].text.strip())\n",
    "#     d={'name':name,'rating':rating,'type':ctype,'hq':hq,'old':old,'employees':employees}\n",
    "#     df=pd.DataFrame(d)\n",
    "#     final.append(df,ignore_index=True)\n"
   ]
  },
  {
   "cell_type": "code",
   "execution_count": 17,
   "id": "9750e9f5",
   "metadata": {},
   "outputs": [
    {
     "data": {
      "text/plain": [
       "(0, 0)"
      ]
     },
     "execution_count": 17,
     "metadata": {},
     "output_type": "execute_result"
    }
   ],
   "source": [
    "final.shape"
   ]
  },
  {
   "cell_type": "code",
   "execution_count": null,
   "id": "cfa479a5",
   "metadata": {},
   "outputs": [],
   "source": []
  }
 ],
 "metadata": {
  "kernelspec": {
   "display_name": "Python 3 (ipykernel)",
   "language": "python",
   "name": "python3"
  },
  "language_info": {
   "codemirror_mode": {
    "name": "ipython",
    "version": 3
   },
   "file_extension": ".py",
   "mimetype": "text/x-python",
   "name": "python",
   "nbconvert_exporter": "python",
   "pygments_lexer": "ipython3",
   "version": "3.10.9"
  }
 },
 "nbformat": 4,
 "nbformat_minor": 5
}
