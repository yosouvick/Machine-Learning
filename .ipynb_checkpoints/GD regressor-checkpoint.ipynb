{
 "cells": [
  {
   "cell_type": "code",
   "execution_count": 1,
   "id": "b75a8357",
   "metadata": {},
   "outputs": [],
   "source": [
    "from sklearn.datasets import make_regression\n",
    "import numpy as np\n",
    "import matplotlib.pyplot as plt"
   ]
  },
  {
   "cell_type": "code",
   "execution_count": 23,
   "id": "32040c1a",
   "metadata": {},
   "outputs": [],
   "source": [
    "x,y=make_regression(n_samples=100,n_features=1,n_informative=1,n_targets=1,noise=20,random_state=13)"
   ]
  },
  {
   "cell_type": "code",
   "execution_count": 24,
   "id": "5ea1658e",
   "metadata": {},
   "outputs": [
    {
     "data": {
      "text/plain": [
       "<matplotlib.collections.PathCollection at 0x130948f4580>"
      ]
     },
     "execution_count": 24,
     "metadata": {},
     "output_type": "execute_result"
    },
    {
     "data": {
      "image/png": "[encoded data removed]",
      "text/plain": [
       "<Figure size 640x480 with 1 Axes>"
      ]
     },
     "metadata": {},
     "output_type": "display_data"
    }
   ],
   "source": [
    "plt.scatter(x,y)"
   ]
  },
  {
   "cell_type": "code",
   "execution_count": 25,
   "id": "da6614ac",
   "metadata": {},
   "outputs": [],
   "source": [
    "from sklearn.linear_model import LinearRegression"
   ]
  },
  {
   "cell_type": "code",
   "execution_count": 26,
   "id": "cbe9006d",
   "metadata": {},
   "outputs": [],
   "source": [
    "reg=LinearRegression()"
   ]
  },
  {
   "cell_type": "code",
   "execution_count": 27,
   "id": "912cf152",
   "metadata": {},
   "outputs": [
    {
     "data": {
      "text/html": [
       "<style>#sk-container-id-2 {color: black;background-color: white;}#sk-container-id-2 pre{padding: 0;}#sk-container-id-2 div.sk-toggleable {background-color: white;}#sk-container-id-2 label.sk-toggleable__label {cursor: pointer;display: block;width: 100%;margin-bottom: 0;padding: 0.3em;box-sizing: border-box;text-align: center;}#sk-container-id-2 label.sk-toggleable__label-arrow:before {content: \"▸\";float: left;margin-right: 0.25em;color: #696969;}#sk-container-id-2 label.sk-toggleable__label-arrow:hover:before {color: black;}#sk-container-id-2 div.sk-estimator:hover label.sk-toggleable__label-arrow:before {color: black;}#sk-container-id-2 div.sk-toggleable__content {max-height: 0;max-width: 0;overflow: hidden;text-align: left;background-color: #f0f8ff;}#sk-container-id-2 div.sk-toggleable__content pre {margin: 0.2em;color: black;border-radius: 0.25em;background-color: #f0f8ff;}#sk-container-id-2 input.sk-toggleable__control:checked~div.sk-toggleable__content {max-height: 200px;max-width: 100%;overflow: auto;}#sk-container-id-2 input.sk-toggleable__control:checked~label.sk-toggleable__label-arrow:before {content: \"▾\";}#sk-container-id-2 div.sk-estimator input.sk-toggleable__control:checked~label.sk-toggleable__label {background-color: #d4ebff;}#sk-container-id-2 div.sk-label input.sk-toggleable__control:checked~label.sk-toggleable__label {background-color: #d4ebff;}#sk-container-id-2 input.sk-hidden--visually {border: 0;clip: rect(1px 1px 1px 1px);clip: rect(1px, 1px, 1px, 1px);height: 1px;margin: -1px;overflow: hidden;padding: 0;position: absolute;width: 1px;}#sk-container-id-2 div.sk-estimator {font-family: monospace;background-color: #f0f8ff;border: 1px dotted black;border-radius: 0.25em;box-sizing: border-box;margin-bottom: 0.5em;}#sk-container-id-2 div.sk-estimator:hover {background-color: #d4ebff;}#sk-container-id-2 div.sk-parallel-item::after {content: \"\";width: 100%;border-bottom: 1px solid gray;flex-grow: 1;}#sk-container-id-2 div.sk-label:hover label.sk-toggleable__label {background-color: #d4ebff;}#sk-container-id-2 div.sk-serial::before {content: \"\";position: absolute;border-left: 1px solid gray;box-sizing: border-box;top: 0;bottom: 0;left: 50%;z-index: 0;}#sk-container-id-2 div.sk-serial {display: flex;flex-direction: column;align-items: center;background-color: white;padding-right: 0.2em;padding-left: 0.2em;position: relative;}#sk-container-id-2 div.sk-item {position: relative;z-index: 1;}#sk-container-id-2 div.sk-parallel {display: flex;align-items: stretch;justify-content: center;background-color: white;position: relative;}#sk-container-id-2 div.sk-item::before, #sk-container-id-2 div.sk-parallel-item::before {content: \"\";position: absolute;border-left: 1px solid gray;box-sizing: border-box;top: 0;bottom: 0;left: 50%;z-index: -1;}#sk-container-id-2 div.sk-parallel-item {display: flex;flex-direction: column;z-index: 1;position: relative;background-color: white;}#sk-container-id-2 div.sk-parallel-item:first-child::after {align-self: flex-end;width: 50%;}#sk-container-id-2 div.sk-parallel-item:last-child::after {align-self: flex-start;width: 50%;}#sk-container-id-2 div.sk-parallel-item:only-child::after {width: 0;}#sk-container-id-2 div.sk-dashed-wrapped {border: 1px dashed gray;margin: 0 0.4em 0.5em 0.4em;box-sizing: border-box;padding-bottom: 0.4em;background-color: white;}#sk-container-id-2 div.sk-label label {font-family: monospace;font-weight: bold;display: inline-block;line-height: 1.2em;}#sk-container-id-2 div.sk-label-container {text-align: center;}#sk-container-id-2 div.sk-container {/* jupyter's `normalize.less` sets `[hidden] { display: none; }` but bootstrap.min.css set `[hidden] { display: none !important; }` so we also need the `!important` here to be able to override the default hidden behavior on the sphinx rendered scikit-learn.org. See: https://github.com/scikit-learn/scikit-learn/issues/21755 */display: inline-block !important;position: relative;}#sk-container-id-2 div.sk-text-repr-fallback {display: none;}</style><div id=\"sk-container-id-2\" class=\"sk-top-container\"><div class=\"sk-text-repr-fallback\"><pre>LinearRegression()</pre><b>In a Jupyter environment, please rerun this cell to show the HTML representation or trust the notebook. <br />On GitHub, the HTML representation is unable to render, please try loading this page with nbviewer.org.</b></div><div class=\"sk-container\" hidden><div class=\"sk-item\"><div class=\"sk-estimator sk-toggleable\"><input class=\"sk-toggleable__control sk-hidden--visually\" id=\"sk-estimator-id-2\" type=\"checkbox\" checked><label for=\"sk-estimator-id-2\" class=\"sk-toggleable__label sk-toggleable__label-arrow\">LinearRegression</label><div class=\"sk-toggleable__content\"><pre>LinearRegression()</pre></div></div></div></div></div>"
      ],
      "text/plain": [
       "LinearRegression()"
      ]
     },
     "execution_count": 27,
     "metadata": {},
     "output_type": "execute_result"
    }
   ],
   "source": [
    "reg.fit(x,y)"
   ]
  },
  {
   "cell_type": "code",
   "execution_count": 28,
   "id": "c2e74451",
   "metadata": {},
   "outputs": [
    {
     "data": {
      "text/plain": [
       "array([27.82809103])"
      ]
     },
     "execution_count": 28,
     "metadata": {},
     "output_type": "execute_result"
    }
   ],
   "source": [
    "reg.coef_"
   ]
  },
  {
   "cell_type": "code",
   "execution_count": 29,
   "id": "3d9adf09",
   "metadata": {},
   "outputs": [
    {
     "data": {
      "text/plain": [
       "-2.2947445586769795"
      ]
     },
     "execution_count": 29,
     "metadata": {},
     "output_type": "execute_result"
    }
   ],
   "source": [
    "reg.intercept_"
   ]
  },
  {
   "cell_type": "code",
   "execution_count": 11,
   "id": "6f777f99",
   "metadata": {},
   "outputs": [],
   "source": [
    "m=60.06"
   ]
  },
  {
   "cell_type": "code",
   "execution_count": 16,
   "id": "ed0b24c1",
   "metadata": {},
   "outputs": [],
   "source": [
    "class GDRegressor:\n",
    "    def __init__(self,learning_rate,epochs):\n",
    "        self.m=60.06\n",
    "        self.b=-120\n",
    "        self.lr=learning_rate\n",
    "        self.epochs=epochs\n",
    "    def fit(self,x,y):\n",
    "        for i in range(self.epochs):\n",
    "            loss_slope= -2*np.sum(y-self.m*x.ravel()-self.b)\n",
    "            step_size=loss_slope*self.lr\n",
    "            self.b=self.b-step_size\n",
    "            print(loss_slope,self.b)\n",
    "        print(self.b)"
   ]
  },
  {
   "cell_type": "code",
   "execution_count": 21,
   "id": "cc6c8ef3",
   "metadata": {},
   "outputs": [],
   "source": [
    "gd=GDRegressor(0.001,100)\n"
   ]
  },
  {
   "cell_type": "code",
   "execution_count": 22,
   "id": "fb7338de",
   "metadata": {},
   "outputs": [
    {
     "name": "stdout",
     "output_type": "stream",
     "text": [
      "-23571.291112288614 -96.42870888771138\n",
      "-18857.03288983089 -77.57167599788049\n",
      "-15085.626311864717 -62.486049686015775\n",
      "-12068.501049491775 -50.417548636524\n",
      "-9654.800839593418 -40.76274779693058\n",
      "-7723.840671674734 -33.03890712525585\n",
      "-6179.072537339788 -26.85983458791606\n",
      "-4943.25802987183 -21.916576558044227\n",
      "-3954.6064238974636 -17.961970134146764\n",
      "-3163.6851391179707 -14.798284995028792\n",
      "-2530.9481112943763 -12.267336883734416\n",
      "-2024.7584890355008 -10.242578394698915\n",
      "-1619.8067912284007 -8.622771603470515\n",
      "-1295.8454329827205 -7.326926170487794\n",
      "-1036.6763463861762 -6.290249824101618\n",
      "-829.3410771089412 -5.460908746992677\n",
      "-663.4728616871532 -4.797435885305524\n",
      "-530.7782893497225 -4.2666575959558015\n",
      "-424.62263147977797 -3.8420349644760234\n",
      "-339.69810518382224 -3.502336859292201\n",
      "-271.75848414705763 -3.2305783751451433\n",
      "-217.40678731764618 -3.013171587827497\n",
      "-173.925429854117 -2.8392461579733803\n",
      "-139.14034388329355 -2.7001058140900867\n",
      "-111.31227510663491 -2.5887935389834515\n",
      "-89.04982008530791 -2.4997437188981437\n",
      "-71.23985606824633 -2.4285038628298974\n",
      "-56.99188485459709 -2.3715119779753002\n",
      "-45.593507883677574 -2.3259184700916227\n",
      "-36.47480630694197 -2.289443663784681\n",
      "-29.17984504555362 -2.2602638187391273\n",
      "-23.34387603644298 -2.2369199427026842\n",
      "-18.675100829154275 -2.21824484187353\n",
      "-14.9400806633235 -2.2033047612102066\n",
      "-11.952064530658674 -2.191352696679548\n",
      "-9.561651624527116 -2.181791045055021\n",
      "-7.649321299621761 -2.1741417237553993\n",
      "-6.1194570396971955 -2.168022266715702\n",
      "-4.895565631758089 -2.163126701083944\n",
      "-3.916452505406241 -2.1592102485785376\n",
      "-3.133162004325058 -2.1560770865742125\n",
      "-2.5065296034601374 -2.1535705569707524\n",
      "-2.005223682767962 -2.1515653332879845\n",
      "-1.6041789462143612 -2.1499611543417703\n",
      "-1.2833431569714833 -2.1486778111847986\n",
      "-1.026674525577178 -2.1476511366592215\n",
      "-0.8213396204616572 -2.1468297970387598\n",
      "-0.6570716963694281 -2.14617272534239\n",
      "-0.5256573570954544 -2.1456470679852946\n",
      "-0.4205258856763123 -2.145226542099618\n",
      "-0.3364207085411408 -2.144890121391077\n",
      "-0.2691365668329979 -2.144620984824244\n",
      "-0.21530925346621643 -2.144405675570778\n",
      "-0.17224740277305273 -2.144233428168005\n",
      "-0.13779792221848197 -2.1440956302457863\n",
      "-0.11023833777471737 -2.1439853919080116\n",
      "-0.08819067021987337 -2.1438972012377917\n",
      "-0.07055253617576795 -2.1438266487016158\n",
      "-0.056442028940722366 -2.143770206672675\n",
      "-0.045153623152501154 -2.1437250530495224\n",
      "-0.036122898521909974 -2.1436889301510007\n",
      "-0.02889831881756777 -2.1436600318321832\n",
      "-0.023118655054162218 -2.143636913177129\n",
      "-0.0184949240433383 -2.1436184182530855\n",
      "-0.014795939234559796 -2.143603622313851\n",
      "-0.011836751387676259 -2.1435917855624633\n",
      "-0.009469401110209219 -2.143582316161353\n",
      "-0.007575520888153164 -2.1435747406404646\n",
      "-0.006060416710354843 -2.1435686802237544\n",
      "-0.0048483333683293495 -2.1435638318903862\n",
      "-0.0038786666948453785 -2.1435599532236913\n",
      "-0.003102933355776827 -2.1435568502903357\n",
      "-0.0024823466846726205 -2.143554367943651\n",
      "-0.0019858773476357783 -2.1435523820663036\n",
      "-0.001588701878148413 -2.1435507933644256\n",
      "-0.001270961502626733 -2.143549522402923\n",
      "-0.0010167692019109609 -2.143548505633721\n",
      "-0.0008134153617191942 -2.1435476922183594\n",
      "-0.0006507322894719891 -2.14354704148607\n",
      "-0.0005205858315946443 -2.1435465209002382\n",
      "-0.0004164686651080274 -2.1435461044315733\n",
      "-0.0003331749321233701 -2.1435457712566413\n",
      "-0.000266539945613431 -2.1435455047166956\n",
      "-0.00021323195659306293 -2.143545291484739\n",
      "-0.00017058556531424074 -2.143545120899174\n",
      "-0.00013646845226844562 -2.1435449844307217\n",
      "-0.00010917476180338781 -2.14354487525596\n",
      "-8.73398095251332e-05 -2.1435447879161504\n",
      "-6.987184754336795e-05 -2.143544718044303\n",
      "-5.589747827627889e-05 -2.143544662146825\n",
      "-4.4717982305542137e-05 -2.1435446174288426\n",
      "-3.5774386162756855e-05 -2.1435445816544565\n",
      "-2.8619508782412595e-05 -2.1435445530349475\n",
      "-2.2895607017403563e-05 -2.1435445301393403\n",
      "-1.831648552297338e-05 -2.1435445118228547\n",
      "-1.4653188387114824e-05 -2.143544497169666\n",
      "-1.1722550780746133e-05 -2.1435444854471153\n",
      "-9.378040729757231e-06 -2.1435444760690747\n",
      "-7.502432524120195e-06 -2.1435444685666423\n",
      "-6.001945962452737e-06 -2.143544462564696\n",
      "-2.143544462564696\n"
     ]
    }
   ],
   "source": [
    "gd.fit(x,y)"
   ]
  },
  {
   "cell_type": "code",
   "execution_count": null,
   "id": "4154b678",
   "metadata": {},
   "outputs": [],
   "source": []
  }
 ],
 "metadata": {
  "kernelspec": {
   "display_name": "Python 3 (ipykernel)",
   "language": "python",
   "name": "python3"
  },
  "language_info": {
   "codemirror_mode": {
    "name": "ipython",
    "version": 3
   },
   "file_extension": ".py",
   "mimetype": "text/x-python",
   "name": "python",
   "nbconvert_exporter": "python",
   "pygments_lexer": "ipython3",
   "version": "3.10.9"
  }
 },
 "nbformat": 4,
 "nbformat_minor": 5
}
